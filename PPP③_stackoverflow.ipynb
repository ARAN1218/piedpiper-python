{
  "nbformat": 4,
  "nbformat_minor": 0,
  "metadata": {
    "colab": {
      "provenance": [],
      "collapsed_sections": [
        "qFUL3qcTYb6B",
        "Nx0ABqJ7Yp_T",
        "QK31F1XdHN6X",
        "QYQu4wwHMp9t",
        "JD0FgetlMrwd",
        "YIMFMODDMtdz",
        "68HSAZcDInD8",
        "9pLz_9KIYxCR",
        "2AeHhBF_JX6z"
      ],
      "authorship_tag": "ABX9TyMlCweyagCBTRFcu5wR9xay",
      "include_colab_link": true
    },
    "kernelspec": {
      "name": "python3",
      "display_name": "Python 3"
    },
    "language_info": {
      "name": "python"
    }
  },
  "cells": [
    {
      "cell_type": "markdown",
      "metadata": {
        "id": "view-in-github",
        "colab_type": "text"
      },
      "source": [
        "<a href=\"https://colab.research.google.com/github/ARAN1218/piedpiper-python/blob/main/PPP%E2%91%A2_stackoverflow.ipynb\" target=\"_parent\"><img src=\"https://colab.research.google.com/assets/colab-badge.svg\" alt=\"Open In Colab\"/></a>"
      ]
    },
    {
      "cell_type": "markdown",
      "metadata": {
        "id": "qFUL3qcTYb6B"
      },
      "source": [
        "# 「データ構造とアルゴリズム」の「データ構造」の方"
      ]
    },
    {
      "cell_type": "markdown",
      "metadata": {
        "id": "Nx0ABqJ7Yp_T"
      },
      "source": [
        "## シーケンスについて（？）"
      ]
    },
    {
      "cell_type": "code",
      "metadata": {
        "id": "OS4_65NlIoS2"
      },
      "source": [
        "# トリプルクォートで改行を挟める\n",
        "# 謎の「\\n」が出現→改行を意味する\n",
        "'''Python\n",
        "大好き'''"
      ],
      "execution_count": null,
      "outputs": []
    },
    {
      "cell_type": "code",
      "metadata": {
        "id": "VF0AJMS6JQxA"
      },
      "source": [
        "# 逆に\\nを文章中に入れてみる\n",
        "print(\"C++\\n大嫌い\")"
      ],
      "execution_count": null,
      "outputs": []
    },
    {
      "cell_type": "code",
      "metadata": {
        "id": "AyqvloFyKJ9N"
      },
      "source": [
        "# エスケープシーケンス\n",
        "# バックスペース(1文字消去)\n",
        "print(\"バック\\bスペース\")\n",
        "\n",
        "# 改行\n",
        "print(\"改\\n行\")\n",
        "\n",
        "# タブ\n",
        "print(\"タ\\tブ\")\n",
        "\n",
        "# (文字としての)シングルクォーテーション\n",
        "print(\"I\\'m a pythonista.\")\n",
        "# 'I'm a pythonista.'　だと「I」だけが文字列だと認識されてエラーになる\n",
        "print(\"I'm a pythonista.\") # ま、こう書けばいいだけなんだけど...\n",
        "\n",
        "# (文字としての)ダブルクォーテーション\n",
        "print('おや？ 鳩が\\\"い\\\"ました')\n",
        "\n",
        "# (文字としての)バックスラッシュ\n",
        "print(\" I'm pytho\\\\nista. \")"
      ],
      "execution_count": null,
      "outputs": []
    },
    {
      "cell_type": "markdown",
      "metadata": {
        "id": "QK31F1XdHN6X"
      },
      "source": [
        "## リスト,辞書←何となく分かる　タプル←何これ？？？"
      ]
    },
    {
      "cell_type": "markdown",
      "metadata": {
        "id": "QYQu4wwHMp9t"
      },
      "source": [
        "### リスト"
      ]
    },
    {
      "cell_type": "code",
      "metadata": {
        "id": "Q9wvTwapp3PT"
      },
      "source": [
        "# リスト\n",
        "# たまに説明に出てきたやつ\n",
        "a = [1,2,3,4,5]\n",
        "b = [\"Python\", \"Java\", \"C++\"]\n",
        "c = [10, 3.14, \"PYTHON\"]\n",
        "print(a, b, c) # リストに入れるデータのデータ型は何でもいい"
      ],
      "execution_count": null,
      "outputs": []
    },
    {
      "cell_type": "code",
      "metadata": {
        "id": "q5oz7GUCRc7D"
      },
      "source": [
        "# for文と組み合わせる\n",
        "for i in range(5):\n",
        "  print(i)\n",
        "\n",
        "# こう書いても同じこと\n",
        "for i in [0,1,2,3,4]:\n",
        "  print(i)\n",
        "\n",
        "# リスト内包表記\n",
        "# for文でリストの内容を指定してあげて、リストを作ることができる\n",
        "for_list = [i for i in range(10)]\n",
        "print(for_list)\n",
        "\n",
        "# range関数はリストを作っている訳ではなく、リストの要素を一つずつ取り出している様に振る舞っているだけ\n",
        "# range関数を利用してリストが作れる\n",
        "list_casted = list(range(5))\n",
        "print(list_casted)"
      ],
      "execution_count": null,
      "outputs": []
    },
    {
      "cell_type": "code",
      "metadata": {
        "id": "BSvPddJcQG0A"
      },
      "source": [
        "# インデックス(重要)\n",
        "# リストの後に[]をつけ、その中にリストの中身の入っている順番(0から数える)を指定することで、それを狙って取り出せる\n",
        "sweets = [\"cake\", \"tiramisu\", \"eclair\"]\n",
        "print(sweets[0])\n",
        "print(sweets[2])\n",
        "print(sweets[-2]) #後ろから数えて何番目か指定できる\n",
        "\n",
        "# インデックスで要素を指定して、そこに再代入できる\n",
        "sweets[1] = \"gateau chocolat\"\n",
        "print(sweets[1])"
      ],
      "execution_count": null,
      "outputs": []
    },
    {
      "cell_type": "code",
      "metadata": {
        "id": "MnNIB1vRfQRy"
      },
      "source": [
        "# リストのスライス\n",
        "# 指定した数字：指定した数字-1の範囲の要素を抽出する\n",
        "a = [1,2,3,4,5]\n",
        "print(a[1:4]) # 0から数える！\n",
        "print(a[2:5])\n",
        "\n",
        "# スライスの片方の数字を指定しないことで、数字がない方の要素を連続で取り出せる\n",
        "print(a[1:])\n",
        "print(a[:4])"
      ],
      "execution_count": null,
      "outputs": []
    },
    {
      "cell_type": "markdown",
      "metadata": {
        "id": "JD0FgetlMrwd"
      },
      "source": [
        "### タプル"
      ]
    },
    {
      "cell_type": "code",
      "metadata": {
        "id": "aWmXet6OMjUB"
      },
      "source": [
        "# タプル\n",
        "# 説明に出てきてないやつ\n",
        "a = (1,2,3,4,5)\n",
        "b = (\"Python\", \"Java\", \"C\")\n",
        "c = (10, 3.14, \"PYTHON\", True)\n",
        "print(a, b, c) # タプルに入れるデータのデータ型も何でもいい"
      ],
      "execution_count": null,
      "outputs": []
    },
    {
      "cell_type": "code",
      "metadata": {
        "id": "cbR8XqnVYjBD"
      },
      "source": [
        "# タプルでもインデックス指定して要素参照できる\n",
        "a = (1, 2, 3, 4, 5)\n",
        "print(a[1])\n",
        "\n",
        "# タプルでもスライス使える\n",
        "print(a[1:5])\n",
        "\n",
        "# タプルでもfor文で要素回せる\n",
        "for i in a:\n",
        "  print(i)\n",
        "\n",
        "#タプルってリストと何が違うの？？→後で明らかになります"
      ],
      "execution_count": null,
      "outputs": []
    },
    {
      "cell_type": "markdown",
      "metadata": {
        "id": "YIMFMODDMtdz"
      },
      "source": [
        "### 辞書"
      ]
    },
    {
      "cell_type": "code",
      "metadata": {
        "id": "URV1v8Z8Mkia"
      },
      "source": [
        "# 辞書\n",
        "# 説明に出てきてないやつ\n",
        "# {キー:値, キー:値, ...}\n",
        "a = {1:1, 2:2, 3:3, 4:4, 5:5}\n",
        "b = {\"最強\":\"Python\", \"普通\":\"Java\", \"カス\":\"C++\"}\n",
        "c = {'int':10, 'float':3.14, 'str':\"PYTHON\", 'bool':True}\n",
        "print(a, b, c) # 辞書に入れるデータのデータ型も何でもいい"
      ],
      "execution_count": null,
      "outputs": []
    },
    {
      "cell_type": "code",
      "metadata": {
        "id": "ByMhOYQOZJ4X"
      },
      "source": [
        "# 辞書の真骨頂...キーを指定して値を取り出す！\n",
        "print(a[1]) #\"1\"という文字列がキーとして設定されている値を取り出す\n",
        "print(b['最強'])\n",
        "print(b['カス'])\n",
        "print(c['float'])"
      ],
      "execution_count": null,
      "outputs": []
    },
    {
      "cell_type": "code",
      "metadata": {
        "id": "uosNqZsUyQxk"
      },
      "source": [
        "# 既存のキーを指定して代入すると、値を変更できる！\n",
        "print(a)\n",
        "a[1] = 9\n",
        "print(a)\n",
        "print()\n",
        "\n",
        "# 未知のキーを指定して代入すると、新しいデータを追加できる！\n",
        "a[6] = 6\n",
        "print(a)"
      ],
      "execution_count": null,
      "outputs": []
    },
    {
      "cell_type": "code",
      "metadata": {
        "id": "wBvDrEq9Dibw"
      },
      "source": [
        "# 辞書をfor文でイテレートすると、キーが出力される\n",
        "dic = {'int':10, 'float':3.14, 'str':\"PYTHON\", 'bool':True}\n",
        "for i in dic:\n",
        "  print(i)\n",
        "print()\n",
        "\n",
        "# 辞書のキーだけを取り出してリストにしたいなら、keysメソッドを用いる\n",
        "print(dic.keys())\n",
        "print()\n",
        "\n",
        "# 辞書の値だけを取り出してリストにしたいなら、valuesメソッドを用いる\n",
        "print(dic.values())\n",
        "print()\n",
        "\n",
        "# 辞書の両方の要素を取り出したいなら、itemsメソッドを用いる\n",
        "print(dic.items()) # リストの中に(キー, 値)というタプルの要素がある\n",
        "print()\n",
        "\n",
        "# 上記のメソッドを利用すれば、for文でイテレートする際にキーと値のどちらをイテレートするか選べる。\n",
        "for i in dic.values():\n",
        "  print(i)\n",
        "print()\n",
        "\n",
        "for i, j in dic.items(): # itemsメソッドを使うことで、何と両方同時にイテレートすることも可能\n",
        "  print(i, j)\n",
        "print()\n"
      ],
      "execution_count": null,
      "outputs": []
    },
    {
      "cell_type": "markdown",
      "source": [
        "### (オマケ)集合"
      ],
      "metadata": {
        "id": "68HSAZcDInD8"
      }
    },
    {
      "cell_type": "code",
      "metadata": {
        "id": "CotYbWswyEi_"
      },
      "source": [
        "# キーを指定しないで定義すると「集合」になる\n",
        "# 集合は重複を許さない！\n",
        "s = {1,1,1,1,1,1,1,1,1,1,12}\n",
        "print(s)"
      ],
      "execution_count": null,
      "outputs": []
    },
    {
      "cell_type": "markdown",
      "metadata": {
        "id": "9pLz_9KIYxCR"
      },
      "source": [
        "## 成功のメソッド"
      ]
    },
    {
      "cell_type": "code",
      "metadata": {
        "id": "5Laowmei8BOp"
      },
      "source": [
        "a = [1,5,2,4,3]\n",
        "\n",
        "# リストの末尾に要素を追加\n",
        "a.append(6)\n",
        "print('a.append(6)',a);print()\n",
        "\n",
        "# リストの指定位置の要素を削除\n",
        "# 削除した要素を代入できる。(=要素を取り出しているイメージ)\n",
        "a.pop()\n",
        "print(\"a.pop()\",a)\n",
        "pop_item = a.pop(2)\n",
        "print('pop_item = a.pop(2)', pop_item)\n",
        "print('a.pop(2)', a);print()\n",
        "\n",
        "# リストとリストを結合する\n",
        "b = [6,9,7,8]\n",
        "a.extend(b)\n",
        "print('a.extend(b)', a);print()\n",
        "\n",
        "# リスト内の指定位置に要素を追加\n",
        "a.insert(1, 10) # リストの2番目に10を追加\n",
        "print('a.insert(1, 10)', a);print()\n",
        "\n",
        "# リスト内の指定位置の要素を削除\n",
        "del a[1]\n",
        "print('del a[1]', a)\n",
        "del a[3:5]\n",
        "print('del a[3:5]', a)\n",
        "\n",
        "# リストの要素を指定して削除\n",
        "# 重複している場合は、最初の値を削除する\n",
        "a.remove(9)\n",
        "print('a.remove(9)', a);print()\n",
        "\n",
        "# リスト内の要素のインデックスを取得\n",
        "print('a.index(4)', a.index(4));print()\n",
        "\n",
        "# リストにある要素が存在するか確認\n",
        "print('1 in a', 1 in a);print()\n",
        "\n",
        "# リスト内にある要素がいくつ含まれているかを返す\n",
        "print('a.count(1)', a.count(1));print()\n",
        "\n",
        "# リスト内の要素を昇順に並び替える\n",
        "a.sort() # 昇順\n",
        "print('a.sort()', a)\n",
        "a.sort(reverse=True) # 降順\n",
        "print('a.sort(reverse=True)', a)\n",
        "\n",
        "# リストをコピーする\n",
        "c = a.copy()\n",
        "print('c = a.copy()', c)\n",
        "d = list(a)\n",
        "print('d = list(a)', d)"
      ],
      "execution_count": null,
      "outputs": []
    },
    {
      "cell_type": "code",
      "source": [
        "# リストにまつわる関数\n",
        "\n",
        "# リストの要素数を調べる\n",
        "print('len(a)', len(a))\n",
        "print()\n",
        "\n",
        "# リスト内の最小値を返す\n",
        "print('min(a)', min(a))\n",
        "print()\n",
        "\n",
        "# リスト内の最大値を返す\n",
        "print('max(a)', max(a))\n",
        "print()\n",
        "\n",
        "# リスト内の要素の合計値を返す\n",
        "print('sum(a)', sum(a))\n",
        "print()"
      ],
      "metadata": {
        "id": "dM1oeHyXJC9D"
      },
      "execution_count": null,
      "outputs": []
    },
    {
      "cell_type": "code",
      "metadata": {
        "id": "UJpvyGhYYphj"
      },
      "source": [
        "# リストを代入->コピーとはならない！\n",
        "a = [0,1,2,3,4]\n",
        "b = a\n",
        "print(a, b)\n",
        "\n",
        "a[1] = 9\n",
        "print(a, b)\n",
        "\n",
        "\n",
        "# copyメソッドで同じオブジェクトを作成することで事実上のコピーが可能\n",
        "a = [0,1,2,3,4]\n",
        "b = a.copy()\n",
        "print(a, b)\n",
        "\n",
        "a[1] = 9\n",
        "print(a, b)"
      ],
      "execution_count": null,
      "outputs": []
    },
    {
      "cell_type": "code",
      "source": [
        "# リストのイコール判定\n",
        "a = [0,1,2,3,4]\n",
        "b = [0,1,2,3,4]\n",
        "print(\"a==b:\",a==b)\n",
        "\n",
        "a = [0,1,2,3,4]\n",
        "b = [0,1,2,3,4]\n",
        "print(\"a is b:\",a is b)\n",
        "\n",
        "\n",
        "a = [0,1,2,3,4]\n",
        "b = a.copy()\n",
        "print(\"a==b:\",a==b)\n",
        "\n",
        "a = [0,1,2,3,4]\n",
        "b = a.copy()\n",
        "print(\"a is b:\",a is b)\n",
        "\n",
        "\n",
        "a = [0,1,2,3,4]\n",
        "b = a\n",
        "print(\"a==b:\",a==b)\n",
        "\n",
        "a = [0,1,2,3,4]\n",
        "b = a\n",
        "print(\"a is b:\",a is b)"
      ],
      "metadata": {
        "id": "TdY98-5XajFX"
      },
      "execution_count": null,
      "outputs": []
    },
    {
      "cell_type": "code",
      "metadata": {
        "id": "nZCiMihKC_fw"
      },
      "source": [
        "# タプルとリストの違い...タプルは要素を変更できない！\n",
        "a = [1,2,3,4,5]\n",
        "b = (6,7,8,9,10)\n",
        "\n",
        "b[1] = 10 # エラーが出る"
      ],
      "execution_count": null,
      "outputs": []
    },
    {
      "cell_type": "markdown",
      "source": [
        "## 演習"
      ],
      "metadata": {
        "id": "2AeHhBF_JX6z"
      }
    },
    {
      "cell_type": "code",
      "source": [
        "# 以下のサイトから面白そうな計算を実装してみよう！\n",
        "# https://keisan.casio.jp"
      ],
      "metadata": {
        "id": "_UI07C3pJZgx"
      },
      "execution_count": null,
      "outputs": []
    }
  ]
}