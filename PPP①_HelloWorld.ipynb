{
  "nbformat": 4,
  "nbformat_minor": 0,
  "metadata": {
    "colab": {
      "provenance": [],
      "collapsed_sections": [
        "-qYALEdZmp1a",
        "2qpZcFA1nHSd",
        "GMgPRuVQqMli",
        "Ycp5G8qyqVRv",
        "25LgEcL10oGD",
        "xAYEFsvI2qKe",
        "K0B8qmvq0ftd"
      ],
      "include_colab_link": true
    },
    "kernelspec": {
      "name": "python3",
      "display_name": "Python 3"
    },
    "language_info": {
      "name": "python"
    }
  },
  "cells": [
    {
      "cell_type": "markdown",
      "metadata": {
        "id": "view-in-github",
        "colab_type": "text"
      },
      "source": [
        "<a href=\"https://colab.research.google.com/github/ARAN1218/piedpiper-python/blob/main/PPP%E2%91%A0_HelloWorld.ipynb\" target=\"_parent\"><img src=\"https://colab.research.google.com/assets/colab-badge.svg\" alt=\"Open In Colab\"/></a>"
      ]
    },
    {
      "cell_type": "markdown",
      "metadata": {
        "id": "-qYALEdZmp1a"
      },
      "source": [
        "# Python 基本文法"
      ]
    },
    {
      "cell_type": "markdown",
      "metadata": {
        "id": "2qpZcFA1nHSd"
      },
      "source": [
        "## Hello Python"
      ]
    },
    {
      "cell_type": "code",
      "metadata": {
        "id": "2m2YF9IGmtet"
      },
      "source": [
        "# プログラミングの世界にようこそ！\n",
        "# C: printf(\"Hello World\");\n",
        "print(\"Hello World\")"
      ],
      "execution_count": null,
      "outputs": []
    },
    {
      "cell_type": "markdown",
      "metadata": {
        "id": "GMgPRuVQqMli"
      },
      "source": [
        "## データ型"
      ]
    },
    {
      "cell_type": "code",
      "metadata": {
        "id": "cfLRI7WnnTcz"
      },
      "source": [
        "# C: int x = 10;\n",
        "# 整数型 = int型\n",
        "a = 3\n",
        "print(a)\n",
        "\n",
        "# C: double y = 3.14\n",
        "# 浮動小数点型 = float\n",
        "b = 3.14\n",
        "print(b)\n",
        "\n",
        "# C: String z = \"Python\";\n",
        "# クォーテーションはシングル・ダブルのどっちでもヨシ！\n",
        "# 文字列型 = str型\n",
        "c = \"Python\" # c = 'Python'でも可\n",
        "print(c)\n",
        "\n",
        "# C: boolean flag = false;\n",
        "# 先頭は大文字で！\n",
        "# 真偽値値 = bool型...TrueかかFalseのどちらかしか取らない\n",
        "flag = True\n",
        "print(flag)"
      ],
      "execution_count": null,
      "outputs": []
    },
    {
      "cell_type": "code",
      "metadata": {
        "id": "OUj9mVrrQLZ3"
      },
      "source": [
        "# データ型の変換\n",
        "# int型\n",
        "print(\"int\")\n",
        "print(int(3.14))\n",
        "print(int(\"4\"))\n",
        "print()\n",
        "\n",
        "# float型\n",
        "print(\"float\")\n",
        "print(float(7))\n",
        "print(float(\"3.14\"))\n",
        "print()\n",
        "\n",
        "# str型\n",
        "print(\"str\")\n",
        "print(str(9999))\n",
        "print(str(3.14))\n",
        "print()\n",
        "\n",
        "#boolean型\n",
        "print(int(True))\n",
        "print(int(False))"
      ],
      "execution_count": null,
      "outputs": []
    },
    {
      "cell_type": "markdown",
      "metadata": {
        "id": "Ycp5G8qyqVRv"
      },
      "source": [
        "## 計算"
      ]
    },
    {
      "cell_type": "code",
      "metadata": {
        "id": "gU_xrRRNqDMs"
      },
      "source": [
        "# 足し算\n",
        "print(1 + 3)\n",
        "\n",
        "# 引き算\n",
        "print(2 - 1)\n",
        "\n",
        "# 掛け算\n",
        "print(3 * 2)\n",
        "\n",
        "# べき乗\n",
        "print(2 ** 2)\n",
        "\n",
        "# 割り算\n",
        "print(4 / 2)\n",
        "\n",
        "# 切り捨て除算\n",
        "print(5 // 2)\n",
        "\n",
        "# 剰余(余り)\n",
        "print(5 % 2)"
      ],
      "execution_count": null,
      "outputs": []
    },
    {
      "cell_type": "code",
      "metadata": {
        "id": "0rmQU56An5jj"
      },
      "source": [
        "# 数式だけだと...\n",
        "1 + 1"
      ],
      "execution_count": null,
      "outputs": []
    },
    {
      "cell_type": "code",
      "metadata": {
        "id": "ncn3mWUfsxAg"
      },
      "source": [
        "# 自己代入(重要)\n",
        "def reset(): #変数a,bの初期化関数(今は無視していいです)\n",
        "  global a, b\n",
        "  a = 10\n",
        "  b = 3\n",
        "\n",
        "reset()\n",
        "# 加算して代入\n",
        "a = a + b # a += bでも可\n",
        "print(\"a = a + b:\",a)\n",
        "\n",
        "reset()\n",
        "# 減算して代入 # a -= bでも可\n",
        "a = a - b\n",
        "print(\"a = a - b:\",a)\n",
        "\n",
        "reset()\n",
        "# 乗算して代入 # a *= bでも可\n",
        "a = a * b\n",
        "print(\"a = a * b:\",a)\n",
        "\n",
        "reset()\n",
        "# 商算して代入 # a /= bでも可\n",
        "a = a / b\n",
        "print(\"a = a / b:\",a)\n",
        "\n",
        "reset()\n",
        "# 商の整数部分だけ代入 # a //= bでも可\n",
        "a = a // b\n",
        "print(\"a = a // b:\",a)\n",
        "\n",
        "reset()\n",
        "# 商の余りだけ代入 # a %= bでも可\n",
        "a = a % b\n",
        "print(\"a = a % b:\",a)\n",
        "\n",
        "reset()\n",
        "# 累乗算して代入 # a **= bでも可\n",
        "a = a ** b\n",
        "print(\"a = a ** b:\",a)\n"
      ],
      "execution_count": null,
      "outputs": []
    },
    {
      "cell_type": "markdown",
      "metadata": {
        "id": "25LgEcL10oGD"
      },
      "source": [
        "## 代入のあれこれ"
      ]
    },
    {
      "cell_type": "code",
      "metadata": {
        "id": "EtOn6r5a3PPe"
      },
      "source": [
        "# input\n",
        "# 文字\n",
        "moji = input(\"何か文字を入力してください>\")\n",
        "print(moji)\n",
        "\n",
        "# 数字(?)\n",
        "moji = input(\"半角数字を入力してください>\")\n",
        "print(moji + 1) \n",
        "# エラーが発生！→inputで入力した文字はstr型!\n",
        "\n",
        "# 数値！\n",
        "# int()関数を使う事でint型にできる！\n",
        "a = int(input())\n",
        "b = 3\n",
        "print(a + b)"
      ],
      "execution_count": null,
      "outputs": []
    },
    {
      "cell_type": "code",
      "metadata": {
        "id": "ASRqtLhR0mw3"
      },
      "source": [
        "# 多重代入\n",
        "x = 1\n",
        "y = 2\n",
        "z = 3\n",
        "\n",
        "# x=z, y=zを一行で実現\n",
        "x = y = z\n",
        "print(x, y, z)"
      ],
      "execution_count": null,
      "outputs": []
    },
    {
      "cell_type": "markdown",
      "metadata": {
        "id": "xAYEFsvI2qKe"
      },
      "source": [
        "## アプリ制作"
      ]
    },
    {
      "cell_type": "markdown",
      "metadata": {
        "id": "RIAOFUJQ20TH"
      },
      "source": [
        "### 標準体重(kg) = BMI * (身長(m))^2"
      ]
    },
    {
      "cell_type": "code",
      "metadata": {
        "id": "3Z24jzMX2f8r"
      },
      "source": [
        "# 定数(BMI)は大文字\n",
        "# 変数の名前を工夫せよ\n",
        "BMI = 22\n"
      ],
      "execution_count": null,
      "outputs": []
    },
    {
      "cell_type": "markdown",
      "metadata": {
        "id": "7VZ2S4jZN_pk"
      },
      "source": [
        "### 寿命(分) = 21.5億 ➗ 心拍数(毎分)"
      ]
    },
    {
      "cell_type": "code",
      "metadata": {
        "id": "G7BZdskHOk5z"
      },
      "source": [
        "RHYTHM = 2150000000\n"
      ],
      "execution_count": null,
      "outputs": []
    },
    {
      "cell_type": "markdown",
      "metadata": {
        "id": "K0B8qmvq0ftd"
      },
      "source": [
        "## 目指すゴール"
      ]
    },
    {
      "cell_type": "code",
      "metadata": {
        "id": "XEzXff-TxEj9"
      },
      "source": [
        "from sklearn.datasets import load_boston\n",
        "boston = load_boston()\n",
        "#説明変数\n",
        "x_array = boston.data\n",
        "#目的変数\n",
        "y_array = boston.target"
      ],
      "execution_count": null,
      "outputs": []
    },
    {
      "cell_type": "code",
      "metadata": {
        "id": "71CAc4b4xJig"
      },
      "source": [
        "import numpy as np\n",
        "import pandas as pd\n",
        "\n",
        "df = pd.DataFrame(x_array, columns=boston.feature_names).assign(MEDV=np.array(y_array))\n",
        "df"
      ],
      "execution_count": null,
      "outputs": []
    }
  ]
}