{
  "nbformat": 4,
  "nbformat_minor": 0,
  "metadata": {
    "colab": {
      "provenance": [],
      "collapsed_sections": [
        "6o263aeIe6OJ",
        "basNdcHWf0UN",
        "4ZLrH58kqeXL",
        "jtopjuIwgJp9",
        "uDiWauaOvswd"
      ],
      "include_colab_link": true
    },
    "kernelspec": {
      "name": "python3",
      "display_name": "Python 3"
    },
    "language_info": {
      "name": "python"
    }
  },
  "cells": [
    {
      "cell_type": "markdown",
      "metadata": {
        "id": "view-in-github",
        "colab_type": "text"
      },
      "source": [
        "<a href=\"https://colab.research.google.com/github/ARAN1218/piedpiper-python/blob/main/PPP%E2%91%A1_FizzBuzz.ipynb\" target=\"_parent\"><img src=\"https://colab.research.google.com/assets/colab-badge.svg\" alt=\"Open In Colab\"/></a>"
      ]
    },
    {
      "cell_type": "markdown",
      "metadata": {
        "id": "VtdJqbcJk4OO"
      },
      "source": [
        "# No complex, No fun"
      ]
    },
    {
      "cell_type": "markdown",
      "metadata": {
        "id": "LoCe8rt8oE6H"
      },
      "source": [
        "## if"
      ]
    },
    {
      "cell_type": "code",
      "metadata": {
        "id": "MLEIjzTUlGbn"
      },
      "source": [
        "# 関係演算子\n",
        "# イコール\n",
        "print(\"1 == 1:\", 1 == 1)\n",
        "print()\n",
        "\n",
        "# ノットイコール\n",
        "print(\"1 != 1:\", 1 != 1)\n",
        "print()\n",
        "\n",
        "# 大なり\n",
        "print(\"1 < 2:\", 1 < 2)\n",
        "print(\"1 < 1:\", 1 < 11 < 1)\n",
        "print()\n",
        "\n",
        "# 以上\n",
        "print(\"1 <= 1:\", 1 <= 1)\n",
        "print()\n",
        "\n",
        "# 小なり\n",
        "print(\"1 > 2:\", 1 > 2)\n",
        "print(\"1 > 1:\", 1 > 1)\n",
        "print()\n",
        "\n",
        "# 以下\n",
        "print(\"1 >= 1:\", 1 >= 1)\n",
        "print()"
      ],
      "execution_count": null,
      "outputs": []
    },
    {
      "cell_type": "code",
      "metadata": {
        "id": "5cRKnR4HrhJf"
      },
      "source": [
        "# 演算子and, or, not\n",
        "a = 10\n",
        "b = 5.5\n",
        "print(f\"a = {a}\") # fstringsと言うテクニックで、文字列内に変数を埋め込める\n",
        "print(f\"b = {b}\")\n",
        "print()\n",
        "\n",
        "# and(&)\n",
        "# ２つのif文が両方ともTrueの時にTrueになる\n",
        "print(\"a == 10 and b == 5.5\", a == 10 and b == 5.5)\n",
        "print(\"(a == 10) & (b == 5.5)\", (a == 10) & (b == 5.5)) # こっちでもOK!\n",
        "print(\"a == 10 and b != 5.5\", a == 10 and b != 5.5)\n",
        "print(\"(a == 10) & (b != 5.5)\", (a == 10) & (b != 5.5)) # こっちでもOK!\n",
        "print()\n",
        "\n",
        "# or(||)\n",
        "# ２つのif文のどちらかがTrueの時にTrueになる\n",
        "print(\"a <= 10 and b > 5.5\", a <= 10 and b > 5.5) # andだとダメ\n",
        "print(\"a <= 10 or b > 5.5\", a <= 10 or b > 5.5)\n",
        "print(\"(a <= 10) || (b > 5.5)\", (a <= 10) | (b > 5.5)) # こっちでもOK!\n",
        "print()\n",
        "\n",
        "# not\n",
        "# 前にあるif文の結果を逆にする\n",
        "print(\"not a != 10\", not a != 10)\n",
        "print(\"not b == 5.5\", not b == 5.5)"
      ],
      "execution_count": null,
      "outputs": []
    },
    {
      "cell_type": "code",
      "metadata": {
        "id": "DaeY5ixDmm-2"
      },
      "source": [
        "# if, elif, elseの書き方\n",
        "budget = int(input(\"あなたの昼食の予算はいくらですか？(単位:円)>\"))\n",
        "if budget <= 200:\n",
        "  print(\"ランチパック\")\n",
        "elif budget < 700 :\n",
        "  print(\"学食\")\n",
        "else:\n",
        "  print(\"回転寿司\")"
      ],
      "execution_count": null,
      "outputs": []
    },
    {
      "cell_type": "code",
      "metadata": {
        "id": "Q1ax7BH4I5e7"
      },
      "source": [
        "# if文を一行で書く！(三項演算子)\n",
        "a = 10\n",
        "which = 2 if a%2==0 else 0 #aが2の倍数であれば2を、そうでなければ0を代入\n",
        "print(which)"
      ],
      "execution_count": null,
      "outputs": []
    },
    {
      "cell_type": "markdown",
      "metadata": {
        "id": "UinhjYY1oWq8"
      },
      "source": [
        "## oops, no break in my looooooooooooooooooooo"
      ]
    },
    {
      "cell_type": "markdown",
      "source": [
        "### for"
      ],
      "metadata": {
        "id": "yGXbgy7xLNWx"
      }
    },
    {
      "cell_type": "code",
      "metadata": {
        "id": "K6PZQi64oBrO"
      },
      "source": [
        "# forの書き方\n",
        "i=1\n",
        "# range関数で0~nまでのリストを作れる\n",
        "for i in range(10):\n",
        "  print(i)\n",
        "\n",
        "# (for文内でiを定義しても)そこにiはある\n",
        "print(i)"
      ],
      "execution_count": null,
      "outputs": []
    },
    {
      "cell_type": "code",
      "source": [
        "# range関数は基本的に3つ引数をとる!\n",
        "# range(最初の数値, 最後の数値+1, 飛ばす数(2なら1,3,5...))\n",
        "for i in range(1, 10, 2):\n",
        "  print(i)\n",
        "print()"
      ],
      "metadata": {
        "id": "QlgavIpNLF9z"
      },
      "execution_count": null,
      "outputs": []
    },
    {
      "cell_type": "markdown",
      "source": [
        "### while"
      ],
      "metadata": {
        "id": "0A0-C76-LO65"
      }
    },
    {
      "cell_type": "code",
      "metadata": {
        "id": "a0lPI_3GpR9K"
      },
      "source": [
        "# whileの書き方\n",
        "i = 10\n",
        "while(i > 0): # カッコの中の条件が「満たされる」限り続ける！(変数iが0未満になると終了する)\n",
        "  print(i)\n",
        "  i -= 1\n"
      ],
      "execution_count": null,
      "outputs": []
    },
    {
      "cell_type": "markdown",
      "source": [
        "### [参考]do while"
      ],
      "metadata": {
        "id": "Em02-p2JLQgS"
      }
    },
    {
      "cell_type": "code",
      "metadata": {
        "id": "kgzX-d9Tp_IY"
      },
      "source": [
        "# do-whileの書き方?\n",
        "# A. whileの条件文ををTrueにし、にし、breakでループを抜ける条件をつけてあげる\n",
        "i = 10\n",
        "while(True):\n",
        "  if i == 5: break #必ずループ終了条件を入れる！\n",
        "  i -= 1\n",
        "  print(i)\n"
      ],
      "execution_count": null,
      "outputs": []
    },
    {
      "cell_type": "code",
      "source": [
        "# 勿論ループを継続させる方->continueもある\n",
        "j = 0\n",
        "while(True):\n",
        "  j += 1\n",
        "  print(j)\n",
        "  if j < 10:\n",
        "    continue\n",
        "  else: # 最初に判定するj<10の条件を満たしている限りはループを続ける\n",
        "    break\n"
      ],
      "metadata": {
        "id": "NJLcQbSPMGWT"
      },
      "execution_count": null,
      "outputs": []
    },
    {
      "cell_type": "code",
      "metadata": {
        "id": "4rNe0sqe4b0m"
      },
      "source": [
        "# 無限ループが発生したら、慌てずにもう一度実行ボタンをクリックしてKeyboardInterruptしよう\n",
        "i = 0\n",
        "while(True):\n",
        "  print(i)\n",
        "  i += 1"
      ],
      "execution_count": null,
      "outputs": []
    },
    {
      "cell_type": "markdown",
      "metadata": {
        "id": "EKhtCdUXe10y"
      },
      "source": [
        "## アプリ制作"
      ]
    },
    {
      "cell_type": "markdown",
      "metadata": {
        "id": "6o263aeIe6OJ"
      },
      "source": [
        "### 基礎代謝量(kcal)\n",
        "男性：13.397✖️体重(kg) + 4.799✖️身長(cm) - 5.677✖️年齢(10進数) + 88.362\n",
        "\n",
        "女性：9.247✖️体重(kg) + 3.098✖️身長(cm) - 4.33✖️年齢(10進数) + 447.593"
      ]
    },
    {
      "cell_type": "code",
      "metadata": {
        "id": "gEr7hcAne4QX"
      },
      "source": [
        "# やってみよう！\n"
      ],
      "execution_count": null,
      "outputs": []
    },
    {
      "cell_type": "markdown",
      "source": [
        "#### 作成例"
      ],
      "metadata": {
        "id": "basNdcHWf0UN"
      }
    },
    {
      "cell_type": "code",
      "source": [
        "height = int(input(\"あなたの身長(cm)を入力してください>\"))\n",
        "weight = int(input(\"あなたの体重(kg)を入力してください>\"))\n",
        "old = int(input(\"あなたの年齢(10進数)を入力してください>\"))\n",
        "gender = int(input(\"あなたの性別を教えてください(男性:0, 女性:1)>\"))\n",
        "\n",
        "if gender == 0:\n",
        "  print(\"あなたの基礎代謝量は\" + str(13.397*weight + 4.799*height - 5.677*old + 88.362) + \"kcalです\")\n",
        "else:\n",
        "  print(\"あなたの基礎代謝量は\", 9.247*weight + 3.098*height - 4.33*old + 447.593, \"kcalです\")"
      ],
      "metadata": {
        "id": "m68bXp2if3Az"
      },
      "execution_count": null,
      "outputs": []
    },
    {
      "cell_type": "markdown",
      "metadata": {
        "id": "4ZLrH58kqeXL"
      },
      "source": [
        "### FizzBuzz\n",
        "1から100までの数値を順番に出力していく。ただし、その数字が3の倍数の時に「Fizz」、5の倍数の時に「Buzz」、3と5の倍数の時に「FizzBuzz」を代わりに出力する。  \n",
        "\n",
        "ex.) 1, 2, Fizz, 4, Buzz, Fizz, 7, 8, Fizz, Buzz, 11, Fizz, 13, 14, FizzBuzz, ...  \n"
      ]
    },
    {
      "cell_type": "code",
      "source": [
        "# 1, 2, Fizz, 4, Buzz, Fizz, 7, 8, Fizz, Buzz, 11, Fizz, 13, 14, FizzBuzz, ...\n",
        "# 書いてみよう！\n",
        "# hint: 条件はキツイものから指定する\n"
      ],
      "metadata": {
        "id": "NegFBdRSgLjE"
      },
      "execution_count": null,
      "outputs": []
    },
    {
      "cell_type": "markdown",
      "source": [
        "#### 作成例"
      ],
      "metadata": {
        "id": "jtopjuIwgJp9"
      }
    },
    {
      "cell_type": "code",
      "metadata": {
        "id": "CeVva-ETqdqc"
      },
      "source": [
        "# 1, 2, Fizz, 4, Buzz, Fizz, 7, 8, Fizz, Buzz, 11, Fizz, 13, 14, FizzBuzz, ...\n",
        "# 書いてみよう！\n",
        "# hint: 条件はキツイものから指定する\n",
        "\n",
        "# for ver\n",
        "for i in range(1, 101):\n",
        "  if i%15 == 0:\n",
        "    print(\"FizzBuzz\")\n",
        "  elif i%3 == 0:\n",
        "    print(\"Fizz\")\n",
        "  elif i%5 == 0:\n",
        "    print(\"Buzz\")\n",
        "  else:\n",
        "    print(i)\n",
        "\n",
        "# while ver\n",
        "j = 1\n",
        "while(j < 101):\n",
        "  if j%15 == 0:\n",
        "    print(\"FizzBuzz\")\n",
        "  elif j%3 == 0:\n",
        "    print(\"Fizz\")\n",
        "  elif j%5 == 0:\n",
        "    print(\"Buzz\")\n",
        "  else:\n",
        "    print(j)\n",
        "  j += 1"
      ],
      "execution_count": null,
      "outputs": []
    },
    {
      "cell_type": "markdown",
      "source": [
        "他にも、心理テストとか作れそうっすよね"
      ],
      "metadata": {
        "id": "fEVnt-C-fRO2"
      }
    },
    {
      "cell_type": "markdown",
      "metadata": {
        "id": "uDiWauaOvswd"
      },
      "source": [
        "## FizzBuzz　一行"
      ]
    },
    {
      "cell_type": "code",
      "metadata": {
        "id": "7AbNg-UCvMqJ"
      },
      "source": [
        "print(\"\\n\".join([\"FizzBuzz\" if n % 15 == 0 else \"Fizz\" if n % 3 == 0 else \"Buzz\" if n % 5 == 0 else str(n) for n in range(1,101)]))"
      ],
      "execution_count": null,
      "outputs": []
    }
  ]
}